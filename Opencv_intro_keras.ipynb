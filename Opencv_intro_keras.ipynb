{
  "nbformat": 4,
  "nbformat_minor": 0,
  "metadata": {
    "colab": {
      "name": "Opencv intro keras.ipynb",
      "provenance": [],
      "collapsed_sections": [],
      "authorship_tag": "ABX9TyM3i8WAEg1CeR63D+Tl18T1",
      "include_colab_link": true
    },
    "kernelspec": {
      "name": "python3",
      "display_name": "Python 3"
    },
    "accelerator": "GPU"
  },
  "cells": [
    {
      "cell_type": "markdown",
      "metadata": {
        "id": "view-in-github",
        "colab_type": "text"
      },
      "source": [
        "<a href=\"https://colab.research.google.com/github/mmadyda/OpenCV/blob/master/Opencv_intro_keras.ipynb\" target=\"_parent\"><img src=\"https://colab.research.google.com/assets/colab-badge.svg\" alt=\"Open In Colab\"/></a>"
      ]
    },
    {
      "cell_type": "code",
      "metadata": {
        "id": "_T-eo5Q6oXte",
        "colab_type": "code",
        "colab": {}
      },
      "source": [
        "import numpy as np\n",
        "from numpy import genfromtxt"
      ],
      "execution_count": 0,
      "outputs": []
    },
    {
      "cell_type": "code",
      "metadata": {
        "id": "FyHgGNcEok3Z",
        "colab_type": "code",
        "colab": {}
      },
      "source": [
        "data = genfromtxt('bank_note_data.txt',delimiter=',')"
      ],
      "execution_count": 0,
      "outputs": []
    },
    {
      "cell_type": "code",
      "metadata": {
        "id": "MnbcVoEJqfgW",
        "colab_type": "code",
        "colab": {
          "base_uri": "https://localhost:8080/",
          "height": 141
        },
        "outputId": "7e9adc04-1394-45a5-9a7d-673bd76bbae5"
      },
      "source": [
        "data"
      ],
      "execution_count": 3,
      "outputs": [
        {
          "output_type": "execute_result",
          "data": {
            "text/plain": [
              "array([[  3.6216 ,   8.6661 ,  -2.8073 ,  -0.44699,   0.     ],\n",
              "       [  4.5459 ,   8.1674 ,  -2.4586 ,  -1.4621 ,   0.     ],\n",
              "       [  3.866  ,  -2.6383 ,   1.9242 ,   0.10645,   0.     ],\n",
              "       ...,\n",
              "       [ -3.7503 , -13.4586 ,  17.5932 ,  -2.7771 ,   1.     ],\n",
              "       [ -3.5637 ,  -8.3827 ,  12.393  ,  -1.2823 ,   1.     ],\n",
              "       [ -2.5419 ,  -0.65804,   2.6842 ,   1.1952 ,   1.     ]])"
            ]
          },
          "metadata": {
            "tags": []
          },
          "execution_count": 3
        }
      ]
    },
    {
      "cell_type": "code",
      "metadata": {
        "id": "WT8HgdtNqiiy",
        "colab_type": "code",
        "colab": {}
      },
      "source": [
        "labels = data[:,4]"
      ],
      "execution_count": 0,
      "outputs": []
    },
    {
      "cell_type": "code",
      "metadata": {
        "id": "3lQwXTk2qilb",
        "colab_type": "code",
        "colab": {
          "base_uri": "https://localhost:8080/",
          "height": 35
        },
        "outputId": "d4e5051c-bef9-44ac-d718-e832b19efb8a"
      },
      "source": [
        "labels"
      ],
      "execution_count": 5,
      "outputs": [
        {
          "output_type": "execute_result",
          "data": {
            "text/plain": [
              "array([0., 0., 0., ..., 1., 1., 1.])"
            ]
          },
          "metadata": {
            "tags": []
          },
          "execution_count": 5
        }
      ]
    },
    {
      "cell_type": "code",
      "metadata": {
        "id": "soaKEyxLqior",
        "colab_type": "code",
        "colab": {}
      },
      "source": [
        "features = data[:,0:4]"
      ],
      "execution_count": 0,
      "outputs": []
    },
    {
      "cell_type": "code",
      "metadata": {
        "id": "rb-tqjlhq0kz",
        "colab_type": "code",
        "colab": {
          "base_uri": "https://localhost:8080/",
          "height": 141
        },
        "outputId": "c1a35acc-dbbc-40fe-c419-0b8b30a19643"
      },
      "source": [
        "features"
      ],
      "execution_count": 7,
      "outputs": [
        {
          "output_type": "execute_result",
          "data": {
            "text/plain": [
              "array([[  3.6216 ,   8.6661 ,  -2.8073 ,  -0.44699],\n",
              "       [  4.5459 ,   8.1674 ,  -2.4586 ,  -1.4621 ],\n",
              "       [  3.866  ,  -2.6383 ,   1.9242 ,   0.10645],\n",
              "       ...,\n",
              "       [ -3.7503 , -13.4586 ,  17.5932 ,  -2.7771 ],\n",
              "       [ -3.5637 ,  -8.3827 ,  12.393  ,  -1.2823 ],\n",
              "       [ -2.5419 ,  -0.65804,   2.6842 ,   1.1952 ]])"
            ]
          },
          "metadata": {
            "tags": []
          },
          "execution_count": 7
        }
      ]
    },
    {
      "cell_type": "code",
      "metadata": {
        "id": "JqyCCA24q3tD",
        "colab_type": "code",
        "colab": {}
      },
      "source": [
        "X = features\n",
        "y = labels"
      ],
      "execution_count": 0,
      "outputs": []
    },
    {
      "cell_type": "code",
      "metadata": {
        "id": "bNMGQfx1q3vp",
        "colab_type": "code",
        "colab": {}
      },
      "source": [
        "from sklearn.model_selection import train_test_split"
      ],
      "execution_count": 0,
      "outputs": []
    },
    {
      "cell_type": "code",
      "metadata": {
        "id": "pL_PlnbCq_aY",
        "colab_type": "code",
        "colab": {}
      },
      "source": [
        "X_train, X_test, y_train, y_test = train_test_split(X,y, test_size=0.33,random_state=42)"
      ],
      "execution_count": 0,
      "outputs": []
    },
    {
      "cell_type": "code",
      "metadata": {
        "id": "czwV43NWq_hk",
        "colab_type": "code",
        "colab": {
          "base_uri": "https://localhost:8080/",
          "height": 141
        },
        "outputId": "a40b4a70-f842-4f4a-f40f-f1d80eaf6287"
      },
      "source": [
        "X_train"
      ],
      "execution_count": 13,
      "outputs": [
        {
          "output_type": "execute_result",
          "data": {
            "text/plain": [
              "array([[-0.8734  , -0.033118, -0.20165 ,  0.55774 ],\n",
              "       [ 2.0177  ,  1.7982  , -2.9581  ,  0.2099  ],\n",
              "       [-0.36038 ,  4.1158  ,  3.1143  , -0.37199 ],\n",
              "       ...,\n",
              "       [-7.0364  ,  9.2931  ,  0.16594 , -4.5396  ],\n",
              "       [-3.4605  ,  2.6901  ,  0.16165 , -1.0224  ],\n",
              "       [-3.3582  , -7.2404  , 11.4419  , -0.57113 ]])"
            ]
          },
          "metadata": {
            "tags": []
          },
          "execution_count": 13
        }
      ]
    },
    {
      "cell_type": "code",
      "metadata": {
        "id": "BanNULMOq3yT",
        "colab_type": "code",
        "colab": {
          "base_uri": "https://localhost:8080/",
          "height": 35
        },
        "outputId": "42ff0790-2818-447f-dd85-bb84c58f417c"
      },
      "source": [
        "len(X_train)"
      ],
      "execution_count": 14,
      "outputs": [
        {
          "output_type": "execute_result",
          "data": {
            "text/plain": [
              "919"
            ]
          },
          "metadata": {
            "tags": []
          },
          "execution_count": 14
        }
      ]
    },
    {
      "cell_type": "code",
      "metadata": {
        "id": "4WKBv4sBr51x",
        "colab_type": "code",
        "colab": {
          "base_uri": "https://localhost:8080/",
          "height": 35
        },
        "outputId": "21e0181d-e00b-4317-a295-7a34978cfb15"
      },
      "source": [
        "len(y_train)"
      ],
      "execution_count": 16,
      "outputs": [
        {
          "output_type": "execute_result",
          "data": {
            "text/plain": [
              "919"
            ]
          },
          "metadata": {
            "tags": []
          },
          "execution_count": 16
        }
      ]
    },
    {
      "cell_type": "code",
      "metadata": {
        "id": "9xiIJRkXr5_K",
        "colab_type": "code",
        "colab": {}
      },
      "source": [
        "from sklearn.preprocessing import MinMaxScaler"
      ],
      "execution_count": 0,
      "outputs": []
    },
    {
      "cell_type": "code",
      "metadata": {
        "id": "_oPOTRDwsI2g",
        "colab_type": "code",
        "colab": {}
      },
      "source": [
        "scaler_object = MinMaxScaler()"
      ],
      "execution_count": 0,
      "outputs": []
    },
    {
      "cell_type": "code",
      "metadata": {
        "id": "oJMWpzdhsI80",
        "colab_type": "code",
        "colab": {
          "base_uri": "https://localhost:8080/",
          "height": 35
        },
        "outputId": "42bb1f1a-33bb-439b-a83d-c970c0683381"
      },
      "source": [
        "scaler_object.fit(X_train)"
      ],
      "execution_count": 19,
      "outputs": [
        {
          "output_type": "execute_result",
          "data": {
            "text/plain": [
              "MinMaxScaler(copy=True, feature_range=(0, 1))"
            ]
          },
          "metadata": {
            "tags": []
          },
          "execution_count": 19
        }
      ]
    },
    {
      "cell_type": "code",
      "metadata": {
        "id": "LBumEpqFsJCP",
        "colab_type": "code",
        "colab": {}
      },
      "source": [
        "scaled_X_train = scaler_object.transform(X_train)"
      ],
      "execution_count": 0,
      "outputs": []
    },
    {
      "cell_type": "code",
      "metadata": {
        "id": "Azv79sscsnwC",
        "colab_type": "code",
        "colab": {}
      },
      "source": [
        "scaled_X_test = scaler_object.transform(X_test)"
      ],
      "execution_count": 0,
      "outputs": []
    },
    {
      "cell_type": "code",
      "metadata": {
        "id": "6Fh95GpUsn0P",
        "colab_type": "code",
        "colab": {
          "base_uri": "https://localhost:8080/",
          "height": 35
        },
        "outputId": "48c71d80-b0bf-4a18-d780-48be362c2466"
      },
      "source": [
        "scaled_X_train.max()"
      ],
      "execution_count": 22,
      "outputs": [
        {
          "output_type": "execute_result",
          "data": {
            "text/plain": [
              "1.0000000000000002"
            ]
          },
          "metadata": {
            "tags": []
          },
          "execution_count": 22
        }
      ]
    },
    {
      "cell_type": "code",
      "metadata": {
        "id": "aNPWWgG7sxkG",
        "colab_type": "code",
        "colab": {
          "base_uri": "https://localhost:8080/",
          "height": 141
        },
        "outputId": "f84e0ce9-0c12-41e4-990c-d735fcd19cdf"
      },
      "source": [
        "X_train"
      ],
      "execution_count": 23,
      "outputs": [
        {
          "output_type": "execute_result",
          "data": {
            "text/plain": [
              "array([[-0.8734  , -0.033118, -0.20165 ,  0.55774 ],\n",
              "       [ 2.0177  ,  1.7982  , -2.9581  ,  0.2099  ],\n",
              "       [-0.36038 ,  4.1158  ,  3.1143  , -0.37199 ],\n",
              "       ...,\n",
              "       [-7.0364  ,  9.2931  ,  0.16594 , -4.5396  ],\n",
              "       [-3.4605  ,  2.6901  ,  0.16165 , -1.0224  ],\n",
              "       [-3.3582  , -7.2404  , 11.4419  , -0.57113 ]])"
            ]
          },
          "metadata": {
            "tags": []
          },
          "execution_count": 23
        }
      ]
    },
    {
      "cell_type": "code",
      "metadata": {
        "id": "vAdrHBQEsxnU",
        "colab_type": "code",
        "colab": {}
      },
      "source": [
        "from keras.models import Sequential\n",
        "from keras.layers import Dense"
      ],
      "execution_count": 0,
      "outputs": []
    },
    {
      "cell_type": "code",
      "metadata": {
        "id": "OOlXTETvsn3t",
        "colab_type": "code",
        "colab": {}
      },
      "source": [
        "model = Sequential()\n",
        "\n",
        "model.add(Dense(4, input_dim=4, activation = 'relu'))\n",
        "model.add(Dense(8,activation='relu'))\n",
        "model.add(Dense(1,activation='sigmoid'))\n",
        "\n"
      ],
      "execution_count": 0,
      "outputs": []
    },
    {
      "cell_type": "code",
      "metadata": {
        "id": "RarWyPc4tv_P",
        "colab_type": "code",
        "colab": {}
      },
      "source": [
        "model.compile(loss='binary_crossentropy',\n",
        "              optimizer='Adam',\n",
        "              metrics=['accuracy'])"
      ],
      "execution_count": 0,
      "outputs": []
    },
    {
      "cell_type": "code",
      "metadata": {
        "id": "Fz3ukzRvt6TP",
        "colab_type": "code",
        "colab": {
          "base_uri": "https://localhost:8080/",
          "height": 1000
        },
        "outputId": "de4de99f-dd0e-41ee-ad9a-89ee190379e7"
      },
      "source": [
        "model.fit(scaled_X_train, y_train, epochs = 50, verbose=2)"
      ],
      "execution_count": 28,
      "outputs": [
        {
          "output_type": "stream",
          "text": [
            "Epoch 1/50\n",
            " - 2s - loss: 0.6966 - accuracy: 0.5419\n",
            "Epoch 2/50\n",
            " - 0s - loss: 0.6913 - accuracy: 0.5495\n",
            "Epoch 3/50\n",
            " - 0s - loss: 0.6852 - accuracy: 0.5495\n",
            "Epoch 4/50\n",
            " - 0s - loss: 0.6775 - accuracy: 0.5495\n",
            "Epoch 5/50\n",
            " - 0s - loss: 0.6696 - accuracy: 0.5495\n",
            "Epoch 6/50\n",
            " - 0s - loss: 0.6614 - accuracy: 0.5495\n",
            "Epoch 7/50\n",
            " - 0s - loss: 0.6527 - accuracy: 0.5680\n",
            "Epoch 8/50\n",
            " - 0s - loss: 0.6433 - accuracy: 0.6039\n",
            "Epoch 9/50\n",
            " - 0s - loss: 0.6330 - accuracy: 0.6551\n",
            "Epoch 10/50\n",
            " - 0s - loss: 0.6212 - accuracy: 0.6834\n",
            "Epoch 11/50\n",
            " - 0s - loss: 0.6086 - accuracy: 0.7051\n",
            "Epoch 12/50\n",
            " - 0s - loss: 0.5956 - accuracy: 0.7291\n",
            "Epoch 13/50\n",
            " - 0s - loss: 0.5822 - accuracy: 0.7367\n",
            "Epoch 14/50\n",
            " - 0s - loss: 0.5675 - accuracy: 0.7563\n",
            "Epoch 15/50\n",
            " - 0s - loss: 0.5531 - accuracy: 0.7824\n",
            "Epoch 16/50\n",
            " - 0s - loss: 0.5389 - accuracy: 0.7867\n",
            "Epoch 17/50\n",
            " - 0s - loss: 0.5247 - accuracy: 0.7889\n",
            "Epoch 18/50\n",
            " - 0s - loss: 0.5111 - accuracy: 0.7943\n",
            "Epoch 19/50\n",
            " - 0s - loss: 0.4978 - accuracy: 0.7965\n",
            "Epoch 20/50\n",
            " - 0s - loss: 0.4851 - accuracy: 0.8063\n",
            "Epoch 21/50\n",
            " - 0s - loss: 0.4730 - accuracy: 0.8085\n",
            "Epoch 22/50\n",
            " - 0s - loss: 0.4617 - accuracy: 0.8128\n",
            "Epoch 23/50\n",
            " - 0s - loss: 0.4506 - accuracy: 0.8183\n",
            "Epoch 24/50\n",
            " - 0s - loss: 0.4394 - accuracy: 0.8259\n",
            "Epoch 25/50\n",
            " - 0s - loss: 0.4298 - accuracy: 0.8248\n",
            "Epoch 26/50\n",
            " - 0s - loss: 0.4192 - accuracy: 0.8313\n",
            "Epoch 27/50\n",
            " - 0s - loss: 0.4097 - accuracy: 0.8346\n",
            "Epoch 28/50\n",
            " - 0s - loss: 0.4001 - accuracy: 0.8466\n",
            "Epoch 29/50\n",
            " - 0s - loss: 0.3910 - accuracy: 0.8433\n",
            "Epoch 30/50\n",
            " - 0s - loss: 0.3824 - accuracy: 0.8509\n",
            "Epoch 31/50\n",
            " - 0s - loss: 0.3740 - accuracy: 0.8607\n",
            "Epoch 32/50\n",
            " - 0s - loss: 0.3656 - accuracy: 0.8607\n",
            "Epoch 33/50\n",
            " - 0s - loss: 0.3568 - accuracy: 0.8640\n",
            "Epoch 34/50\n",
            " - 0s - loss: 0.3479 - accuracy: 0.8672\n",
            "Epoch 35/50\n",
            " - 0s - loss: 0.3404 - accuracy: 0.8716\n",
            "Epoch 36/50\n",
            " - 0s - loss: 0.3325 - accuracy: 0.8770\n",
            "Epoch 37/50\n",
            " - 0s - loss: 0.3247 - accuracy: 0.8781\n",
            "Epoch 38/50\n",
            " - 0s - loss: 0.3172 - accuracy: 0.8803\n",
            "Epoch 39/50\n",
            " - 0s - loss: 0.3107 - accuracy: 0.8803\n",
            "Epoch 40/50\n",
            " - 0s - loss: 0.3027 - accuracy: 0.8879\n",
            "Epoch 41/50\n",
            " - 0s - loss: 0.2955 - accuracy: 0.8977\n",
            "Epoch 42/50\n",
            " - 0s - loss: 0.2887 - accuracy: 0.8999\n",
            "Epoch 43/50\n",
            " - 0s - loss: 0.2824 - accuracy: 0.9021\n",
            "Epoch 44/50\n",
            " - 0s - loss: 0.2749 - accuracy: 0.9108\n",
            "Epoch 45/50\n",
            " - 0s - loss: 0.2682 - accuracy: 0.9140\n",
            "Epoch 46/50\n",
            " - 0s - loss: 0.2619 - accuracy: 0.9184\n",
            "Epoch 47/50\n",
            " - 0s - loss: 0.2554 - accuracy: 0.9227\n",
            "Epoch 48/50\n",
            " - 0s - loss: 0.2494 - accuracy: 0.9260\n",
            "Epoch 49/50\n",
            " - 0s - loss: 0.2432 - accuracy: 0.9282\n",
            "Epoch 50/50\n",
            " - 0s - loss: 0.2375 - accuracy: 0.9325\n"
          ],
          "name": "stdout"
        },
        {
          "output_type": "execute_result",
          "data": {
            "text/plain": [
              "<keras.callbacks.callbacks.History at 0x7f2ba0254b00>"
            ]
          },
          "metadata": {
            "tags": []
          },
          "execution_count": 28
        }
      ]
    },
    {
      "cell_type": "code",
      "metadata": {
        "id": "tb1hVApAt6WR",
        "colab_type": "code",
        "colab": {
          "base_uri": "https://localhost:8080/",
          "height": 35
        },
        "outputId": "e74329e6-8309-434b-a067-eec8d76e39f7"
      },
      "source": [
        "model.metrics_names"
      ],
      "execution_count": 30,
      "outputs": [
        {
          "output_type": "execute_result",
          "data": {
            "text/plain": [
              "['loss', 'accuracy']"
            ]
          },
          "metadata": {
            "tags": []
          },
          "execution_count": 30
        }
      ]
    },
    {
      "cell_type": "code",
      "metadata": {
        "id": "rndoGVbvt6Zd",
        "colab_type": "code",
        "colab": {}
      },
      "source": [
        "from sklearn.metrics import confusion_matrix, classification_report"
      ],
      "execution_count": 0,
      "outputs": []
    },
    {
      "cell_type": "code",
      "metadata": {
        "id": "-D2N7h0ougcu",
        "colab_type": "code",
        "colab": {}
      },
      "source": [
        "predictions = model.predict_classes(scaled_X_test)"
      ],
      "execution_count": 0,
      "outputs": []
    },
    {
      "cell_type": "code",
      "metadata": {
        "id": "oonarIMOugim",
        "colab_type": "code",
        "colab": {
          "base_uri": "https://localhost:8080/",
          "height": 53
        },
        "outputId": "c49a726f-a3ad-495e-8ebd-5fb9be44ebe5"
      },
      "source": [
        "confusion_matrix(y_test, predictions)"
      ],
      "execution_count": 34,
      "outputs": [
        {
          "output_type": "execute_result",
          "data": {
            "text/plain": [
              "array([[251,   6],\n",
              "       [ 25, 171]])"
            ]
          },
          "metadata": {
            "tags": []
          },
          "execution_count": 34
        }
      ]
    },
    {
      "cell_type": "code",
      "metadata": {
        "id": "QGtV8E6-ugl2",
        "colab_type": "code",
        "colab": {
          "base_uri": "https://localhost:8080/",
          "height": 177
        },
        "outputId": "57e09452-d01f-4816-9ff4-888af71974b5"
      },
      "source": [
        "print(classification_report(y_test, predictions))"
      ],
      "execution_count": 35,
      "outputs": [
        {
          "output_type": "stream",
          "text": [
            "              precision    recall  f1-score   support\n",
            "\n",
            "         0.0       0.91      0.98      0.94       257\n",
            "         1.0       0.97      0.87      0.92       196\n",
            "\n",
            "    accuracy                           0.93       453\n",
            "   macro avg       0.94      0.92      0.93       453\n",
            "weighted avg       0.93      0.93      0.93       453\n",
            "\n"
          ],
          "name": "stdout"
        }
      ]
    },
    {
      "cell_type": "code",
      "metadata": {
        "id": "RO0VH4TTu5dg",
        "colab_type": "code",
        "colab": {}
      },
      "source": [
        "model.save('mysupermodel.h5')"
      ],
      "execution_count": 0,
      "outputs": []
    },
    {
      "cell_type": "code",
      "metadata": {
        "id": "l8VcJk8vugpG",
        "colab_type": "code",
        "colab": {}
      },
      "source": [
        "from keras.models import load_model"
      ],
      "execution_count": 0,
      "outputs": []
    },
    {
      "cell_type": "code",
      "metadata": {
        "id": "-4LoPPGHvApm",
        "colab_type": "code",
        "colab": {}
      },
      "source": [
        "newmodel = load_model('mysupermodel.h5')"
      ],
      "execution_count": 0,
      "outputs": []
    },
    {
      "cell_type": "code",
      "metadata": {
        "id": "KxrOnfSpvA3Z",
        "colab_type": "code",
        "colab": {}
      },
      "source": [
        ""
      ],
      "execution_count": 0,
      "outputs": []
    },
    {
      "cell_type": "code",
      "metadata": {
        "id": "K5oqkM4hvBD2",
        "colab_type": "code",
        "colab": {}
      },
      "source": [
        ""
      ],
      "execution_count": 0,
      "outputs": []
    }
  ]
}